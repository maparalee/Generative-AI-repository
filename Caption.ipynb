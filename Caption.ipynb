{
 "cells": [
  {
   "cell_type": "code",
   "execution_count": null,
   "id": "6fff55c9-124b-45ba-8a12-91b9a92d3fca",
   "metadata": {},
   "outputs": [],
   "source": [
    "# %%\n",
    "import streamlit as st\n",
    "from transformers import BlipForConditionalGeneration, AutoProcessor\n",
    "from PIL import Image\n",
    "\n"
   ]
  },
  {
   "cell_type": "code",
   "execution_count": null,
   "id": "72e3502c-cd0d-4bd6-bb3d-b9b78889a718",
   "metadata": {},
   "outputs": [],
   "source": [
    "# Load model and processor\n",
    "model = BlipForConditionalGeneration.from_pretrained('Salesforce/blip-image-captioning-base')\n",
    "processor = AutoProcessor.from_pretrained('Salesforce/blip-image-captioning-base')\n",
    "\n"
   ]
  },
  {
   "cell_type": "code",
   "execution_count": null,
   "id": "89c0233e-b91b-4312-9f8e-c33d4022611a",
   "metadata": {},
   "outputs": [],
   "source": [
    "# Streamlit app\n",
    "st.title(\"Image Captioning with BLIP\")\n",
    "\n"
   ]
  },
  {
   "cell_type": "code",
   "execution_count": null,
   "id": "42b9cf3d-c4cc-4f43-bc87-2b912a0be31c",
   "metadata": {},
   "outputs": [],
   "source": [
    "# File uploader to accept image from user\n",
    "uploaded_file = st.file_uploader(\"Choose an image...\", type=\"jpg\")\n",
    "\n",
    "if uploaded_file :\n",
    "    # Display the uploaded image\n",
    "    image = Image.open(uploaded_file)\n",
    "    st.image(image, caption=\"Uploaded Image\", use_column_width=True)\n",
    "    \n",
    "    # Process the image when 'Caption' button is pressed\n",
    "    if st.button('Generate Caption'):\n",
    "        # Prepare image for model\n",
    "        inputs = processor(images=image, return_tensors=\"pt\")\n",
    "        \n",
    "        # Generate caption\n",
    "        caption = model.generate(**inputs)\n",
    "        caption_text = processor.decode(caption[0], skip_special_tokens=True)\n",
    "        \n",
    "        # Display the caption\n",
    "        st.write(f\"Caption: **{caption_text}**\")\n",
    "\n",
    "\n",
    "# %%\n",
    "\n",
    "\n",
    "# %%\n"
   ]
  },
  {
   "cell_type": "code",
   "execution_count": null,
   "id": "a6f31952-0c8b-4c8d-9ec2-cdbde8674e48",
   "metadata": {},
   "outputs": [],
   "source": []
  },
  {
   "cell_type": "code",
   "execution_count": null,
   "id": "b81169e3-0fe8-4c73-b638-82dcfc076325",
   "metadata": {},
   "outputs": [],
   "source": []
  },
  {
   "cell_type": "code",
   "execution_count": null,
   "id": "bd2eab8e-eafc-45fe-aef7-d1b963f8a046",
   "metadata": {},
   "outputs": [],
   "source": []
  },
  {
   "cell_type": "code",
   "execution_count": null,
   "id": "dc69585c-80c8-4087-9780-fed2be5f0257",
   "metadata": {},
   "outputs": [],
   "source": []
  },
  {
   "cell_type": "code",
   "execution_count": null,
   "id": "c3fea4cc-7423-483e-9f9c-76560e27d46f",
   "metadata": {},
   "outputs": [],
   "source": []
  }
 ],
 "metadata": {
  "kernelspec": {
   "display_name": "Python 3 (ipykernel)",
   "language": "python",
   "name": "python3"
  },
  "language_info": {
   "codemirror_mode": {
    "name": "ipython",
    "version": 3
   },
   "file_extension": ".py",
   "mimetype": "text/x-python",
   "name": "python",
   "nbconvert_exporter": "python",
   "pygments_lexer": "ipython3",
   "version": "3.12.4"
  }
 },
 "nbformat": 4,
 "nbformat_minor": 5
}
