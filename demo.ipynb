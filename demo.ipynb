{
 "cells": [
  {
   "cell_type": "markdown",
   "id": "b50233bc",
   "metadata": {},
   "source": [
    "### Installation of streamlit"
   ]
  },
  {
   "cell_type": "code",
   "execution_count": 9,
   "id": "5f067f48",
   "metadata": {},
   "outputs": [
    {
     "name": "stdout",
     "output_type": "stream",
     "text": [
      "Name: streamlit\n",
      "Version: 1.36.0\n",
      "Summary: A faster way to build and share data apps\n",
      "Home-page: https://streamlit.io\n",
      "Author: Snowflake Inc\n",
      "Author-email: hello@streamlit.io\n",
      "License: Apache License 2.0\n",
      "Location: C:\\Users\\user\\anaconda3\\Lib\\site-packages\n",
      "Requires: altair, blinker, cachetools, click, gitpython, numpy, packaging, pandas, pillow, protobuf, pyarrow, pydeck, requests, rich, tenacity, toml, tornado, typing-extensions, watchdog\n",
      "Required-by: \n"
     ]
    },
    {
     "name": "stderr",
     "output_type": "stream",
     "text": [
      "WARNING: Ignoring invalid distribution ~yarrow (C:\\Users\\user\\anaconda3\\Lib\\site-packages)\n"
     ]
    }
   ],
   "source": [
    "# # !pip install streamlit\n",
    "# !pip show streamlit"
   ]
  },
  {
   "cell_type": "markdown",
   "id": "08dcf4e6",
   "metadata": {},
   "source": [
    "### Title"
   ]
  },
  {
   "cell_type": "code",
   "execution_count": 10,
   "id": "2504f6df",
   "metadata": {},
   "outputs": [],
   "source": [
    "import streamlit as st"
   ]
  },
  {
   "cell_type": "code",
   "execution_count": 11,
   "id": "10557159",
   "metadata": {},
   "outputs": [
    {
     "data": {
      "text/plain": [
       "DeltaGenerator()"
      ]
     },
     "execution_count": 11,
     "metadata": {},
     "output_type": "execute_result"
    }
   ],
   "source": [
    "st.title('Machine-learning')"
   ]
  },
  {
   "cell_type": "markdown",
   "id": "0c438fd4",
   "metadata": {},
   "source": [
    "### Headerf"
   ]
  },
  {
   "cell_type": "code",
   "execution_count": 12,
   "id": "1e3d9988",
   "metadata": {},
   "outputs": [
    {
     "data": {
      "text/plain": [
       "DeltaGenerator()"
      ]
     },
     "execution_count": 12,
     "metadata": {},
     "output_type": "execute_result"
    }
   ],
   "source": [
    "st.header('Data science')"
   ]
  },
  {
   "cell_type": "markdown",
   "id": "920bb227",
   "metadata": {},
   "source": [
    "### Subheader"
   ]
  },
  {
   "cell_type": "code",
   "execution_count": 13,
   "id": "2a84331e",
   "metadata": {},
   "outputs": [
    {
     "data": {
      "text/plain": [
       "DeltaGenerator()"
      ]
     },
     "execution_count": 13,
     "metadata": {},
     "output_type": "execute_result"
    }
   ],
   "source": [
    "st.subheader('This is a subheader')"
   ]
  },
  {
   "cell_type": "markdown",
   "id": "533e858f",
   "metadata": {},
   "source": [
    "### Text"
   ]
  },
  {
   "cell_type": "code",
   "execution_count": 14,
   "id": "687fca50",
   "metadata": {},
   "outputs": [
    {
     "data": {
      "text/plain": [
       "DeltaGenerator()"
      ]
     },
     "execution_count": 14,
     "metadata": {},
     "output_type": "execute_result"
    }
   ],
   "source": [
    "st.text('lets change the life of the students')"
   ]
  },
  {
   "cell_type": "markdown",
   "id": "c83fd90d",
   "metadata": {},
   "source": [
    "### Slider\n"
   ]
  },
  {
   "cell_type": "code",
   "execution_count": 15,
   "id": "5b03db15",
   "metadata": {},
   "outputs": [],
   "source": [
    "age = st.slider(\"Select your age\", 0, 100, 25)\n",
    "st.write(f\"Your age: {age}\")\n"
   ]
  },
  {
   "cell_type": "markdown",
   "id": "da17a4e0",
   "metadata": {},
   "source": [
    "### Button\n"
   ]
  },
  {
   "cell_type": "code",
   "execution_count": 17,
   "id": "e282d4f0",
   "metadata": {},
   "outputs": [],
   "source": [
    "if st.button(\"Click me\"):\n",
    "    st.write(\"Button clicked!\")\n"
   ]
  },
  {
   "cell_type": "markdown",
   "id": "50bb2be9",
   "metadata": {},
   "source": [
    "### selectobx"
   ]
  },
  {
   "cell_type": "code",
   "execution_count": 16,
   "id": "ebd7d2ec",
   "metadata": {},
   "outputs": [
    {
     "name": "stderr",
     "output_type": "stream",
     "text": [
      "2024-10-24 10:18:02.058 Session state does not function when running a script without `streamlit run`\n"
     ]
    }
   ],
   "source": [
    "option = st.selectbox(\"Choose a number\", [1, 2, 3, 4, 5])\n",
    "st.write(f\"You selected: {option}\")\n"
   ]
  },
  {
   "cell_type": "code",
   "execution_count": null,
   "id": "5fc817f2",
   "metadata": {},
   "outputs": [],
   "source": []
  }
 ],
 "metadata": {
  "kernelspec": {
   "display_name": "Python 3 (ipykernel)",
   "language": "python",
   "name": "python3"
  },
  "language_info": {
   "codemirror_mode": {
    "name": "ipython",
    "version": 3
   },
   "file_extension": ".py",
   "mimetype": "text/x-python",
   "name": "python",
   "nbconvert_exporter": "python",
   "pygments_lexer": "ipython3",
   "version": "3.11.4"
  }
 },
 "nbformat": 4,
 "nbformat_minor": 5
}
